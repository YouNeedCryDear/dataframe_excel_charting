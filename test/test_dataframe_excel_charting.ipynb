{
 "cells": [
  {
   "cell_type": "code",
   "execution_count": 1,
   "metadata": {},
   "outputs": [],
   "source": [
    "# test data frame\n",
    "from dataframe_excel_charting import DataFrameExcelCharting\n",
    "import pandas as pd\n",
    "import numpy as np\n",
    "import xlsxwriter"
   ]
  },
  {
   "cell_type": "code",
   "execution_count": 2,
   "metadata": {},
   "outputs": [
    {
     "name": "stdout",
     "output_type": "stream",
     "text": [
      "       col1      col2      col3      col4   category\n",
      "0 -0.362531 -1.103226  0.280622       NaN  category0\n",
      "1  1.092642 -0.442697  0.819573       inf  category1\n",
      "2 -0.047075 -1.189930 -0.331967 -0.097948  category2\n",
      "3  1.050033 -0.336702 -0.506423 -1.104202  category3\n",
      "4 -0.104814 -0.154897  0.844831  0.685723  category4\n"
     ]
    },
    {
     "name": "stderr",
     "output_type": "stream",
     "text": [
      "/Users/arthur/anaconda/lib/python2.7/site-packages/ipykernel_launcher.py:3: SettingWithCopyWarning: \n",
      "A value is trying to be set on a copy of a slice from a DataFrame\n",
      "\n",
      "See the caveats in the documentation: http://pandas.pydata.org/pandas-docs/stable/indexing.html#indexing-view-versus-copy\n",
      "  This is separate from the ipykernel package so we can avoid doing imports until\n",
      "/Users/arthur/anaconda/lib/python2.7/site-packages/ipykernel_launcher.py:4: SettingWithCopyWarning: \n",
      "A value is trying to be set on a copy of a slice from a DataFrame\n",
      "\n",
      "See the caveats in the documentation: http://pandas.pydata.org/pandas-docs/stable/indexing.html#indexing-view-versus-copy\n",
      "  after removing the cwd from sys.path.\n"
     ]
    }
   ],
   "source": [
    "df = pd.DataFrame(np.random.randn(100, 4), columns=[\"col1\", \"col2\", \"col3\", \"col4\"])\n",
    "df[\"category\"] = [\"category{}\".format(i) for i in range(100)]\n",
    "df[\"col4\"][0] = None\n",
    "df[\"col4\"][1] = np.inf\n",
    "print df.head()"
   ]
  },
  {
   "cell_type": "code",
   "execution_count": 5,
   "metadata": {},
   "outputs": [],
   "source": [
    "workbook = xlsxwriter.Workbook(\"test_charting.xlsx\")\n",
    "test_class = DataFrameExcelCharting(df, workbook)\n",
    "test_class.writeToExcel(\"test_sheet\")\n",
    "test_class.topNChart(columns=[\"col1\", \"col3\"], n=10, category_col=\"category\")\n",
    "test_class.bucketsNChart(column=\"col4\",n_buckets=10)\n",
    "test_class.getBucketsCounts(column=\"col4\", n_buckets=10)\n",
    "test_class.closeWorkBook()"
   ]
  },
  {
   "cell_type": "code",
   "execution_count": 6,
   "metadata": {},
   "outputs": [
    {
     "name": "stdout",
     "output_type": "stream",
     "text": [
      "       col1      col2      col3      col4   category\n",
      "0 -0.108237  2.116755 -1.177859 -1.167523  category0\n",
      "1  0.526545 -0.415420 -0.542660  0.384540  category1\n",
      "2  1.381104  1.388207  0.825058 -0.299769  category2\n",
      "3 -1.695084  1.033844 -1.435455  1.576350  category3\n",
      "4 -0.572219 -0.440056 -0.391426 -0.922716  category4\n",
      "       col5      col6      col7      col8   cate\n",
      "0 -1.702405 -1.927831 -0.380204 -2.318844  cate0\n",
      "1 -1.413312  0.918250 -1.936924 -0.566692  cate1\n",
      "2 -0.637312 -1.271255  0.683931 -0.540982  cate2\n",
      "3 -0.278463  1.517297  0.455493  1.363902  cate3\n",
      "4 -0.219471  1.483166  0.597910  0.067171  cate4\n"
     ]
    }
   ],
   "source": [
    "# list of DFs\n",
    "df1 = pd.DataFrame(np.random.randn(100, 4), columns=[\"col1\", \"col2\", \"col3\", \"col4\"])\n",
    "df1[\"category\"] = [\"category{}\".format(i) for i in range(100)]\n",
    "df2 = pd.DataFrame(np.random.randn(100, 4), columns=[\"col5\", \"col6\", \"col7\", \"col8\"])\n",
    "df2[\"cate\"] = [\"cate{}\".format(i) for i in range(100)]\n",
    "print df1.head()\n",
    "print df2.head()"
   ]
  },
  {
   "cell_type": "code",
   "execution_count": 7,
   "metadata": {
    "collapsed": true
   },
   "outputs": [],
   "source": [
    "# list of DFs\n",
    "dfs = [df1, df2]\n",
    "workbook = xlsxwriter.Workbook(\"huge_workbook.xlsx\")\n",
    "i = 1\n",
    "for df in dfs:\n",
    "    test_class = DataFrameExcelCharting(df, workbook)\n",
    "    test_class.writeToExcel(\"test_sheet{0}\".format(i))\n",
    "    i = i + 1\n",
    "workbook.close()"
   ]
  },
  {
   "cell_type": "code",
   "execution_count": null,
   "metadata": {
    "collapsed": true
   },
   "outputs": [],
   "source": []
  }
 ],
 "metadata": {
  "kernelspec": {
   "display_name": "Python 2",
   "language": "python",
   "name": "python2"
  },
  "language_info": {
   "codemirror_mode": {
    "name": "ipython",
    "version": 2
   },
   "file_extension": ".py",
   "mimetype": "text/x-python",
   "name": "python",
   "nbconvert_exporter": "python",
   "pygments_lexer": "ipython2",
   "version": "2.7.13"
  }
 },
 "nbformat": 4,
 "nbformat_minor": 2
}
